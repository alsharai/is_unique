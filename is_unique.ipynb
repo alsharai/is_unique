{
 "cells": [
  {
   "cell_type": "code",
   "execution_count": 1,
   "id": "75e8aa8f-bea3-4d26-84fd-4e351b6c0c26",
   "metadata": {},
   "outputs": [
    {
     "data": {
      "text/plain": [
       "25"
      ]
     },
     "execution_count": 1,
     "metadata": {},
     "output_type": "execute_result"
    }
   ],
   "source": [
    "ord('z') - ord('a')"
   ]
  },
  {
   "cell_type": "code",
   "execution_count": 2,
   "id": "1c6ab9fe-0f81-4ea9-a37c-9c96318d4e48",
   "metadata": {},
   "outputs": [
    {
     "data": {
      "text/plain": [
       "0"
      ]
     },
     "execution_count": 2,
     "metadata": {},
     "output_type": "execute_result"
    }
   ],
   "source": [
    "ord('a') - ord('a')"
   ]
  },
  {
   "cell_type": "code",
   "execution_count": 3,
   "id": "b76fa54e-1dce-4432-be7d-944756eb8369",
   "metadata": {},
   "outputs": [
    {
     "data": {
      "text/plain": [
       "1"
      ]
     },
     "execution_count": 3,
     "metadata": {},
     "output_type": "execute_result"
    }
   ],
   "source": [
    "ord('b') - ord('a')"
   ]
  },
  {
   "cell_type": "code",
   "execution_count": 4,
   "id": "8c39d7c4-81c3-4e27-a45d-31150fa493f6",
   "metadata": {},
   "outputs": [
    {
     "data": {
      "text/plain": [
       "4"
      ]
     },
     "execution_count": 4,
     "metadata": {},
     "output_type": "execute_result"
    }
   ],
   "source": [
    "# 0001 0110 (22)\n",
    "#          & (\"AND\" operation)\n",
    "# 1000 0100 (132)\n",
    "# - - - - - \n",
    "# 0000 0100 (4)\n",
    "\n",
    "22 & 132"
   ]
  },
  {
   "cell_type": "code",
   "execution_count": 5,
   "id": "785d6571-9e64-44f1-a6df-19615a505b80",
   "metadata": {},
   "outputs": [
    {
     "data": {
      "text/plain": [
       "150"
      ]
     },
     "execution_count": 5,
     "metadata": {},
     "output_type": "execute_result"
    }
   ],
   "source": [
    "# 0001 0110 (22)\n",
    "#          | (\"OR\" operation)\n",
    "# 1000 0100 (132)\n",
    "# - - - - - \n",
    "# 1001 0110\n",
    "22 | 132"
   ]
  },
  {
   "cell_type": "code",
   "execution_count": null,
   "id": "a432897d-6d37-4e05-9ce6-235bff749cc3",
   "metadata": {},
   "outputs": [],
   "source": []
  }
 ],
 "metadata": {
  "kernelspec": {
   "display_name": "Python 3 (ipykernel)",
   "language": "python",
   "name": "python3"
  },
  "language_info": {
   "codemirror_mode": {
    "name": "ipython",
    "version": 3
   },
   "file_extension": ".py",
   "mimetype": "text/x-python",
   "name": "python",
   "nbconvert_exporter": "python",
   "pygments_lexer": "ipython3",
   "version": "3.9.7"
  }
 },
 "nbformat": 4,
 "nbformat_minor": 5
}
